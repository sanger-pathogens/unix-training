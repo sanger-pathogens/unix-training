{
 "cells": [
  {
   "cell_type": "markdown",
   "metadata": {},
   "source": [
    "# Looking inside files\n",
    "__1.__ `head -n 500 Styphi.gff > Styphi.500.gff`  \n",
    "  \n",
    "__2.__ There are 6213 lines in the file. Use the `-l` option:  \n",
    "  \n",
    "`wc -l Pfalciparum.bed`  \n",
    "  \n",
    "__3.__ `sort -k 1 -k 2 -n Pfalciparum.bed`  \n",
    "  \n",
    "__4.__ Here is one way to do this: First use `awk` to get the first column of the file. Sort this and then use the `-c` option for `uniq` to count how many entries each chromosome has:\n",
    "\n",
    "`awk '{ print $1 }' Pfalciparum.bed | sort | uniq -c`\n",
    "\n",
    "The expected output would be:\n",
    "\n",
    "```\n",
    " 190 01\n",
    " 264 02\n",
    " 287 03\n",
    " 292 04\n",
    " 357 05\n",
    " 373 06\n",
    " 395 07\n",
    " 374 08\n",
    " 425 09\n",
    " 452 10\n",
    " 553 11\n",
    " 621 12\n",
    " 773 13\n",
    " 857 14\n",
    " ```"
   ]
  }
 ],
 "metadata": {
  "kernelspec": {
   "display_name": "Bash",
   "language": "bash",
   "name": "bash"
  },
  "language_info": {
   "codemirror_mode": "shell",
   "file_extension": ".sh",
   "mimetype": "text/x-sh",
   "name": "bash"
  }
 },
 "nbformat": 4,
 "nbformat_minor": 2
}
