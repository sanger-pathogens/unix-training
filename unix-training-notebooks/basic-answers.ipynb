{
 "cells": [
  {
   "cell_type": "markdown",
   "metadata": {},
   "source": [
    "# Basic Unix\n",
    "__1.__ `ls -al`  \n",
    "__2.__ There are 4 files in the directory (and 2 subdirectories). You can use `ls -l` to look inside the directory. This will show you which of the contents are files and which are directories. Don't forget to also include the `-a` option to show any hidden files:  \n",
    "   \n",
    "`ls -la Pfalciparum`  \n",
    "  \n",
    "__3.__ Malaria.fa is the largest file. You can add the `-h` option to the command above to make the size of the files more readable.  \n",
    "  \n",
    "__4.__ `cd Pfalciparum`  \n",
    "  \n",
    "__5.__ There is one file in the fasta directory (hint: it's a hidden file! You need the `-a` option to see it).  \n",
    "  \n",
    "__6.__ `cp Pfalciparum.bed annotation`  \n",
    "  \n",
    "__7.__ `mv *.fa fasta`\n",
    "  \n",
    "__8.__ 4 files.  \n",
    "  \n",
    "__9.__ There are 6 GFFs in the Unix directory. To search from the Unix directory, you can either use `cd` to move up to the directory, or you can specify the path in the `find` command. This can either be the absolute path, which you can get from `pwd`, or you can use the relative path, like so:  \n",
    "   \n",
    "`find ../.. -name *.gff`\n",
    "  \n",
    "__10.__ There are 7 fasta files in the Unix directory. Note that fasta files normally end with `.fa` OR `.fasta`, so wee need to make sure we look for both of these, by adding a wildcard after `fa`:   \n",
    "   \n",
    "`find ../.. -name *.fa*`   "
   ]
  }
 ],
 "metadata": {
  "kernelspec": {
   "display_name": "Bash",
   "language": "bash",
   "name": "bash"
  },
  "language_info": {
   "codemirror_mode": "shell",
   "file_extension": ".sh",
   "mimetype": "text/x-sh",
   "name": "bash"
  }
 },
 "nbformat": 4,
 "nbformat_minor": 2
}
