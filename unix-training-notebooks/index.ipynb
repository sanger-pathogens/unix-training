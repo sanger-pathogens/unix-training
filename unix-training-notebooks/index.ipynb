{
 "cells": [
  {
   "cell_type": "markdown",
   "metadata": {},
   "source": [
    "# Unix for Bioinformatics\n",
    "\n",
    "## Introduction\n",
    "\n",
    "Unix is the standard operating system on most large computer systems in scientific research, in the same way that Microsoft Windows is the dominant operating system on desktop PCs.\n",
    "\n",
    "Unix and MS Windows both perform the important job of managing the computer's hardware (screen, keyboard, mouse, hard disks, network connections, etc...) on your behalf. They also provide you with tools to manage your files and to run application software. They both offer a graphical user interface (desktop). These desktop interfaces look different between the operating systems, use different names for things (e.g. directory versus folder) and have different images but they mostly offer the same functionality.\n",
    "\n",
    "Unix is a powerful, secure, robust and stable operating system which allows dozens of people to run programs on the same computer at the same time. This is why it is the preferred operating system for large-scale scientific computing. It runs on all kinds of machines, from mobile phones (Android), desktop PCs... to supercomputers.\n",
    "\n",
    "\n",
    "### Why Unix?\n",
    "\n",
    "Increasingly, the output of biological research exists as in silico data, usually in the form of large text files. Unix is particularly suitable for working with such files and has several powerful and flexible commands that can be used to process and analyse this data. One advantage of learning Unix is that many of the commands can be combined in an almost unlimited fashion. So if you can learn just six Unix commands, you will be able to do a lot more than just six things.\n",
    "\n",
    "Unix contains hundreds of commands, but to conduct your analysis you will probably only need 10 or so to achieve most of what you want to do. In this tutorial we will introduce you to some basic Unix commands followed by some more advanced commands and provide examples of how they can be used in bioinformatics analyses.\n",
    "\n",
    "## Learning outcomes\n",
    "This tutorial consists of two sections, **Introduction to UNIX** and **Advanced UNIX for Bioinformatics**. By the end of the first section you can expect to be able to:\n",
    "\n",
    "* Describe why UNIX is sutable for analysing NGS data\n",
    "* Know what the UNIX command line is\n",
    "* Understand the UNIX directory structure and navigate around this structure\n",
    "* Manipulate (move, copy and delete ) files using the command line \n",
    "* Look at and sort the contents of a file\n",
    "* Find the unique items in a list\n",
    "* Use the man command to find out more information about UNIX commands\n",
    "\n",
    "By the end of the second section you can expect to be able to:\n",
    "\n",
    "* Extract information from large files\n",
    "* Use regular expressions to search for particular patterns in a file\n",
    "* Use the AWK programming language to extract and filter information from a file\n",
    "* Create a bash script to perform several tasks at once\n",
    "* Use a bash loop to perform the same task several times\n",
    "\n",
    "## Sections of the Unix tutorial\n",
    "**Introduction to UNIX** comprises the following sections:   \n",
    "  1. [Basic unix](basic.ipynb)   \n",
    "  2. [Files](files.ipynb)   \n",
    "\n",
    "**Advanced UNIX for Bioinformatics** comprises the following sections:   \n",
    "  3. [grep](grep.ipynb)   \n",
    "  4. [awk](awk.ipynb)   \n",
    "  5. [Bash scripts](bash_scripts.ipynb)   \n",
    "\n",
    "## Authors\n",
    "This tutorial was created by [Jacqui Keane](https://github.com/jacquikeane) and [Martin Hunt](https://github.com/martinghunt).\n",
    "\n",
    "## Running the commands from this tutorial\n",
    "You can run the commands in this tutorial either directly from the Jupyter notebook (if using Jupyter), or by typing the commands in your terminal window. \n",
    "\n",
    "### Running commands on Jupyter\n",
    "If you are using Jupyter, command cells (like the one below) can be run by selecting the cell and clicking _Cell -> Run_ from the menu above or using _ctrl Enter_ to run the command. Let's give this a try by printing our working directory using the _pwd_ command and listing the files within it. Run the commands in the two cells below."
   ]
  },
  {
   "cell_type": "code",
   "execution_count": null,
   "metadata": {
    "collapsed": true
   },
   "outputs": [],
   "source": [
    "pwd"
   ]
  },
  {
   "cell_type": "code",
   "execution_count": null,
   "metadata": {
    "collapsed": true
   },
   "outputs": [],
   "source": [
    "ls -l"
   ]
  },
  {
   "cell_type": "markdown",
   "metadata": {},
   "source": [
    "### Running commands in the terminal\n",
    "You can also follow this tutorial by typing all the commands you see into a terminal window. This is similar to the \"Command Prompt\" window on MS Windows systems, which allows the user to type DOS commands to manage files.\n",
    "\n",
    "To get started, select the cell below with the mouse and then either press control and enter or choose Cell -> Run in the menu at the top of the page."
   ]
  },
  {
   "cell_type": "code",
   "execution_count": null,
   "metadata": {
    "collapsed": true
   },
   "outputs": [],
   "source": [
    "echo cd $PWD"
   ]
  },
  {
   "cell_type": "markdown",
   "metadata": {},
   "source": [
    "Now open a new terminal on your computer and type the command that was output by the previous cell followed by the enter key. The command will look similar to this:"
   ]
  },
  {
   "cell_type": "code",
   "execution_count": null,
   "metadata": {
    "collapsed": true
   },
   "outputs": [],
   "source": [
    "cd /home/manager/pathogen-informatics-training/Notebooks/Unix/"
   ]
  },
  {
   "cell_type": "markdown",
   "metadata": {},
   "source": [
    "Now you can follow the instructions in the tutorial from here.\n",
    "\n",
    "## Cheat sheet\n",
    "\n",
    "We've also included a [cheat sheet](unix_cheat_sheet.ipynb). It probably won't make a lot of sense now, but it might be a useful reminder of this module later in the tutorial.\n",
    "\n",
    "## Let’s get started!\n",
    "    \n",
    "To get started with the tutorial, head to the first section: [Basic unix](basic.ipynb)"
   ]
  }
 ],
 "metadata": {
  "kernelspec": {
   "display_name": "Bash",
   "language": "bash",
   "name": "bash"
  },
  "language_info": {
   "codemirror_mode": "shell",
   "file_extension": ".sh",
   "mimetype": "text/x-sh",
   "name": "bash"
  }
 },
 "nbformat": 4,
 "nbformat_minor": 1
}
