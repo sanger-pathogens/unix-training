{
 "cells": [
  {
   "cell_type": "markdown",
   "metadata": {},
   "source": [
    "# Looking inside files\n",
    "\n",
    "A common task is to look at the contents of a file. This can be achieved using several different Unix commands, `less`, `head` and `tail`. Let us consider some examples.\n",
    "\n",
    "But first, change directory into the `Unix/files/` directory:"
   ]
  },
  {
   "cell_type": "code",
   "execution_count": null,
   "metadata": {},
   "outputs": [],
   "source": [
    "cd files"
   ]
  },
  {
   "cell_type": "markdown",
   "metadata": {},
   "source": [
    "## less\n",
    "\n",
    "The `less` command displays the contents of a specified file one screen at a time. Because this is interactive you can not run it in a jupyter notebook. To try out this command open a terminal by selecting File -> New Launcher and select Terminal from the bottom of the new launcher tab that will have opened.\n",
    "\n",
    "Run the following command and enter the output into the new terminal tab:"
   ]
  },
  {
   "cell_type": "code",
   "execution_count": 1,
   "metadata": {},
   "outputs": [
    {
     "name": "stdout",
     "output_type": "stream",
     "text": [
      "cd /Users/km22/Documents/git_projects/unix-training/unix-training-notebooks\n"
     ]
    }
   ],
   "source": [
    "echo cd $(pwd) "
   ]
  },
  {
   "cell_type": "markdown",
   "metadata": {},
   "source": [
    "Then type the following command followed by the enter key:"
   ]
  },
  {
   "cell_type": "markdown",
   "metadata": {},
   "source": [
    "`less Styphi.gff`"
   ]
  },
  {
   "cell_type": "markdown",
   "metadata": {},
   "source": [
    "The contents of the file `Styphi.gff` is displayed one screen at a time, to view the next screen press the space bar. As `Styphi.gff` is a large file this will take a while, therefore you may want to escape or exit from this command. To do this, press the q key, this kills the `less` command and returns you to the Unix prompt. `less` can also scroll backwards if you hit the `b` key. Another useful feature is the slash key, `/`, to search for an expression in the file. Try it, search for the gene with locus tag t0038. What is the start and end position of this gene?"
   ]
  },
  {
   "cell_type": "markdown",
   "metadata": {},
   "source": [
    "## head and tail\n",
    "\n",
    "Sometimes you may just want to view the text at the beginning or the end of a file, without having to display all of the file. The `head` and `tail` commands can be used to do this."
   ]
  },
  {
   "cell_type": "markdown",
   "metadata": {},
   "source": [
    "The `head` command displays the first ten lines of a file.\n",
    "\n",
    "To look at the beginning of the fie `Styphi.gff` file type:"
   ]
  },
  {
   "cell_type": "code",
   "execution_count": null,
   "metadata": {
    "collapsed": true
   },
   "outputs": [],
   "source": [
    "head Styphi.gff"
   ]
  },
  {
   "cell_type": "markdown",
   "metadata": {},
   "source": [
    "The `tail` command displays the last ten lines of a file.\n",
    "\n",
    "To look at the end of `Styphi.gff` type:"
   ]
  },
  {
   "cell_type": "code",
   "execution_count": null,
   "metadata": {
    "collapsed": true
   },
   "outputs": [],
   "source": [
    "tail Styphi.gff"
   ]
  },
  {
   "cell_type": "markdown",
   "metadata": {},
   "source": [
    "The amount of the file that is displayed can be increased by adding extra arguments. To increase the number of lines viewed from 10 to 25 add `-n 25` to the command: "
   ]
  },
  {
   "cell_type": "code",
   "execution_count": null,
   "metadata": {
    "collapsed": true
   },
   "outputs": [],
   "source": [
    "tail -n 25 Styphi.gff"
   ]
  },
  {
   "cell_type": "markdown",
   "metadata": {},
   "source": [
    "In this case you've given tail an argument in two parts.  In this case the `-n` says that you want to specify the number of lines to show and the `25` bit tells it how many.  Unlike earlier when we merged arguments like `ls -lha` together, it's not a good idea to merge multiple two part arguments together because otherwise it is ambiguous which value goes with which argument.\n",
    "\n",
    "`-n` is such a common argument for `tail` and `head` that it even has a shorthand: `-n 25` and `-25` mean the same thing."
   ]
  },
  {
   "cell_type": "markdown",
   "metadata": {},
   "source": [
    "## Saving time\n",
    "\n",
    "Saving time while typing may not seem important, but the longer that you spend in front of a computer, the happier you will be if you can reduce the time you spend at the keyboard.\n",
    "\n",
    "* Pressing the up/down arrows will let you scroll through previous commands entered. \n",
    "\n",
    "* If you highlight some text, middle clicking on the mouse will paste it on the command line.\n",
    "\n",
    "* Tab completion doesn't just work on filenames, it also works on commands. Try it by typing `tai` and pressing tab...\n",
    "\n",
    "    \n",
    "    tai  <press the TAB key>\n"
   ]
  },
  {
   "cell_type": "code",
   "execution_count": null,
   "metadata": {},
   "outputs": [],
   "source": []
  },
  {
   "cell_type": "markdown",
   "metadata": {},
   "source": [
    "Although tab completion works on commands and filenames, unfortunately it does not work on options or other arguments."
   ]
  },
  {
   "cell_type": "markdown",
   "metadata": {},
   "source": [
    "## Getting help man\n",
    "\n",
    "To obtain further information on any of the Unix commands introduced in this course you can use the `man` command. For example, to get a full description and examples of how to use the `tail` command type the following command in a terminal window.\n",
    "\n",
    "    man tail"
   ]
  },
  {
   "cell_type": "code",
   "execution_count": null,
   "metadata": {
    "collapsed": true
   },
   "outputs": [],
   "source": []
  },
  {
   "cell_type": "markdown",
   "metadata": {},
   "source": [
    "There are several other useful commands that can be used to manipulate and summarise information inside files and we will introduce some of these next, `cat`, `sort`, `wc` and `uniq`."
   ]
  },
  {
   "cell_type": "markdown",
   "metadata": {},
   "source": [
    "## Writing to files\n",
    "\n",
    "So far we've been running commands and outputting the results into the terminal.  That's obviously useful but what if you want to save the results to another file?\n",
    "\n",
    "Type this:"
   ]
  },
  {
   "cell_type": "code",
   "execution_count": null,
   "metadata": {
    "collapsed": true
   },
   "outputs": [],
   "source": [
    "head -1 Styphi.gff > first_Styphi_line.txt"
   ]
  },
  {
   "cell_type": "markdown",
   "metadata": {},
   "source": [
    "It may look like nothing has happened. This is because the `>` character has _redirected_ the output of the `head` command.  Instead of writing to the _standard output_ (your terminal) it sent the output into the file `first_Styphi_line.txt`.  Note that tab completion works for `Styphi.gff` because it exists but doesn't work for `first_Styphi_line.txt` because it doesn't exist yet."
   ]
  },
  {
   "cell_type": "markdown",
   "metadata": {},
   "source": [
    "## cat\n",
    "\n",
    "`cat` is another way of reading files, but unlike `less` it just throws the entire contents of the file onto your standard output.  Try it on `first_Styphi_line.txt`"
   ]
  },
  {
   "cell_type": "code",
   "execution_count": null,
   "metadata": {
    "collapsed": true
   },
   "outputs": [],
   "source": [
    "cat first_Styphi_line.txt"
   ]
  },
  {
   "cell_type": "markdown",
   "metadata": {},
   "source": [
    "We don't need `first_Styphi_line.txt` any more so delete it by typing"
   ]
  },
  {
   "cell_type": "code",
   "execution_count": null,
   "metadata": {
    "collapsed": true
   },
   "outputs": [],
   "source": [
    "rm first_Styphi_line.txt"
   ]
  },
  {
   "cell_type": "markdown",
   "metadata": {},
   "source": [
    "The `cat` command can also be given the names of multiple files, one after the other and it will just output the contents of all files. The order in which the files are displayed is determined by the order in which they appear in the command line. You can use this concept and the `>` symbol to join files together into a single file.\n",
    "\n",
    "Having looked at the beginning and end of the `Styphi.gff` file you should notice that in the GFF file the annotation comes first, then the DNA sequence at the end. If you had two separate files containing the annotation and the DNA sequence, it is possible to concatenate or join the two together to make a single file like the `Styphi.gff` file you have just looked at.\n",
    "\n",
    "For example, we have two separate files, `Styphi.noseq.gff` and `Styphi.fa`, that contain the annotation and DNA sequence, respectively for the Salmonella typhi CT18 genome. To join together these files type:"
   ]
  },
  {
   "cell_type": "code",
   "execution_count": null,
   "metadata": {
    "collapsed": true
   },
   "outputs": [],
   "source": [
    "cat Styphi.noseq.gff Styphi.fa > Styphi.concatenated.gff"
   ]
  },
  {
   "cell_type": "markdown",
   "metadata": {},
   "source": [
    "The files `Styphi.noseq.gff` and `Styphi.fa` will be joined together and written to a file called `Styphi.concatenated.gff`.\n",
    "\n",
    "The `>` symbol in the command line directs the output of the cat program to the designated file `Styphi.concatenated.gff`. Use the command `ls` to check for the presence of this file."
   ]
  },
  {
   "cell_type": "code",
   "execution_count": null,
   "metadata": {
    "collapsed": true
   },
   "outputs": [],
   "source": [
    "ls"
   ]
  },
  {
   "cell_type": "markdown",
   "metadata": {},
   "source": [
    "## wc - counting\n",
    "\n",
    "The command `wc` counts lines, words or characters.\n",
    "\n",
    "There are two ways you could use it:"
   ]
  },
  {
   "cell_type": "code",
   "execution_count": null,
   "metadata": {
    "collapsed": true
   },
   "outputs": [],
   "source": [
    "wc -l Styphi.gff"
   ]
  },
  {
   "cell_type": "markdown",
   "metadata": {},
   "source": [
    "or"
   ]
  },
  {
   "cell_type": "code",
   "execution_count": null,
   "metadata": {
    "collapsed": true
   },
   "outputs": [],
   "source": [
    "cat Styphi.gff | wc -l"
   ]
  },
  {
   "cell_type": "markdown",
   "metadata": {},
   "source": [
    "Both give a similar answer.  In the first example you tell `wc` the file that you want it to review (`Styphi.gff`) and pass the `-l` option to say that you're only interested in the number of lines.\n",
    "\n",
    "In the second example you use the `|` symbol which is also known as the _pipe_ symbol.  This _pipes_ the output of `cat Styphi.gff` into the input of `wc -l`.  This means that you can also use the same `wc` tool to count other things.  For example to count the number of files that are listed by `ls` type:"
   ]
  },
  {
   "cell_type": "code",
   "execution_count": null,
   "metadata": {
    "collapsed": true
   },
   "outputs": [],
   "source": [
    "ls | wc -l"
   ]
  },
  {
   "cell_type": "markdown",
   "metadata": {},
   "source": [
    "You can connect as many commands as you want. For example, type:"
   ]
  },
  {
   "cell_type": "code",
   "execution_count": null,
   "metadata": {
    "collapsed": true
   },
   "outputs": [],
   "source": [
    "ls | grep \".gff\" | wc -l"
   ]
  },
  {
   "cell_type": "markdown",
   "metadata": {},
   "source": [
    "What does this command do? You will learn more about the `grep` command later in this course."
   ]
  },
  {
   "cell_type": "markdown",
   "metadata": {},
   "source": [
    "## sort - sorting values\n",
    "\n",
    "The `sort` lets you sort the contents of the input. When you sort the input, lines with identical content end up next to each other in the output. This is useful as the output can then be fed to the `uniq` command (see below) to count the number of unique lines in the input.\n",
    "\n",
    "To sort the contents of a BED file type:\n",
    "\n",
    "    sort Pfalciparum.bed\n",
    "   \n",
    "Now type:"
   ]
  },
  {
   "cell_type": "code",
   "execution_count": null,
   "metadata": {
    "collapsed": true,
    "scrolled": true
   },
   "outputs": [],
   "source": [
    "sort Pfalciparum.bed | tail"
   ]
  },
  {
   "cell_type": "markdown",
   "metadata": {},
   "source": [
    "To sort the contents of a BED file on position, type the following command.\n",
    "\n",
    "    sort -k 2 -n Pfalciparum.bed\n",
    "    \n",
    "The `sort` command can sort by multiple columns e.g. 1st column and then 2nd column by specifying successive -k parameters in the command. Type the following commands:"
   ]
  },
  {
   "cell_type": "code",
   "execution_count": null,
   "metadata": {
    "collapsed": true
   },
   "outputs": [],
   "source": [
    "sort -k 2 -n Pfalciparum.bed | tail"
   ]
  },
  {
   "cell_type": "markdown",
   "metadata": {},
   "source": [
    "Why not have a look at the manual for `sort` to see what these options do?  Remember that you can type `/` followed by a search phrase, `n` to find the next search hit, `N` to find the previous search hit and `q` to exit.\n",
    "\n",
    "    man sort"
   ]
  },
  {
   "cell_type": "code",
   "execution_count": 3,
   "metadata": {},
   "outputs": [
    {
     "name": "stdout",
     "output_type": "stream",
     "text": [
      "\n",
      "SORT(1)                   BSD General Commands Manual                  SORT(1)\n",
      "\n",
      "NAME\n",
      "     sort -- sort or merge records (lines) of text and binary files\n",
      "\n",
      "SYNOPSIS\n",
      "     sort [-bcCdfghiRMmnrsuVz] [-k field1[,field2]] [-S memsize] [-T dir]\n",
      "          [-t char] [-o output] [file ...]\n",
      "     sort --help\n",
      "     sort --version\n",
      "\n",
      "DESCRIPTION\n",
      "     The sort utility sorts text and binary files by lines.  A line is a\n",
      "     record separated from the subsequent record by a newline (default) or NUL\n",
      "     '\\0' character (-z option).  A record can contain any printable or\n",
      "     unprintable characters.  Comparisons are based on one or more sort keys\n",
      "     extracted from each line of input, and are performed lexicographically,\n",
      "     according to the current locale's collating rules and the specified com-\n",
      "     mand-line options that can tune the actual sorting behavior.  By default,\n",
      "     if keys are not given, sort uses entire lines for comparison.\n",
      "\n",
      "     The command line options are as follows:\n",
      "\n",
      "     -c, --check, -C, --check=silent|quiet\n",
      "             Check that the single input file is sorted.  If the file is not\n",
      "             sorted, sort produces the appropriate error messages and exits\n",
      "             with code 1, otherwise returns 0.  If -C or --check=silent is\n",
      "             specified, sort produces no output.  This is a \"silent\" version\n",
      "             of -c.\n",
      "\n",
      "     -m, --merge\n",
      "             Merge only.  The input files are assumed to be pre-sorted.  If\n",
      "             they are not sorted the output order is undefined.\n",
      "\n",
      "     -o output, --output=output\n",
      "             Print the output to the output file instead of the standard out-\n",
      "             put.\n",
      "\n",
      "     -S size, --buffer-size=size\n",
      "             Use size for the maximum size of the memory buffer.  Size modi-\n",
      "             fiers %,b,K,M,G,T,P,E,Z,Y can be used.  If a memory limit is not\n",
      "             explicitly specified, sort takes up to about 90% of available\n",
      "             memory.  If the file size is too big to fit into the memory\n",
      "             buffer, the temporary disk files are used to perform the sorting.\n",
      "\n",
      "     -T dir, --temporary-directory=dir\n",
      "             Store temporary files in the directory dir.  The default path is\n",
      "             the value of the environment variable TMPDIR or /var/tmp if\n",
      "             TMPDIR is not defined.\n",
      "\n",
      "     -u, --unique\n",
      "             Unique keys.  Suppress all lines that have a key that is equal to\n",
      "             an already processed one.  This option, similarly to -s, implies\n",
      "             a stable sort.  If used with -c or -C, sort also checks that\n",
      "             there are no lines with duplicate keys.\n",
      "\n",
      "     -s      Stable sort.  This option maintains the original record order of\n",
      "             records that have an equal key.  This is a non-standard feature,\n",
      "             but it is widely accepted and used.\n",
      "\n",
      "     --version\n",
      "             Print the version and silently exits.\n",
      "\n",
      "     --help  Print the help text and silently exits.\n",
      "\n",
      "     The following options override the default ordering rules.  When ordering\n",
      "     options appear independently of key field specifications, they apply\n",
      "     globally to all sort keys.  When attached to a specific key (see -k), the\n",
      "     ordering options override all global ordering options for the key they\n",
      "     are attached to.\n",
      "\n",
      "     -b, --ignore-leading-blanks\n",
      "             Ignore leading blank characters when comparing lines.\n",
      "\n",
      "     -d, --dictionary-order\n",
      "             Consider only blank spaces and alphanumeric characters in compar-\n",
      "             isons.\n",
      "\n",
      "     -f, --ignore-case\n",
      "             Convert all lowercase characters to their uppercase equivalent\n",
      "             before comparison, that is, perform case-independent sorting.\n",
      "\n",
      "     -g, --general-numeric-sort, --sort=general-numeric\n",
      "             Sort by general numerical value.  As opposed to -n, this option\n",
      "             handles general floating points.  It has a more permissive format\n",
      "             than that allowed by -n but it has a significant performance\n",
      "             drawback.\n",
      "\n",
      "     -h, --human-numeric-sort, --sort=human-numeric\n",
      "             Sort by numerical value, but take into account the SI suffix, if\n",
      "             present.  Sort first by numeric sign (negative, zero, or posi-\n",
      "             tive); then by SI suffix (either empty, or `k' or `K', or one of\n",
      "             `MGTPEZY', in that order); and finally by numeric value.  The SI\n",
      "             suffix must immediately follow the number.  For example, '12345K'\n",
      "             sorts before '1M', because M is \"larger\" than K.  This sort\n",
      "             option is useful for sorting the output of a single invocation of\n",
      "             'df' command with -h or -H options (human-readable).\n",
      "\n",
      "     -i, --ignore-nonprinting\n",
      "             Ignore all non-printable characters.\n",
      "\n",
      "     -M, --month-sort, --sort=month\n",
      "             Sort by month abbreviations.  Unknown strings are considered\n",
      "             smaller than the month names.\n",
      "\n",
      "     -n, --numeric-sort, --sort=numeric\n",
      "             Sort fields numerically by arithmetic value.  Fields are supposed\n",
      "             to have optional blanks in the beginning, an optional minus sign,\n",
      "             zero or more digits (including decimal point and possible thou-\n",
      "             sand separators).\n",
      "\n",
      "     -R, --random-sort, --sort=random\n",
      "             Sort by a random order.  This is a random permutation of the\n",
      "             inputs except that the equal keys sort together.  It is imple-\n",
      "             mented by hashing the input keys and sorting the hash values.\n",
      "             The hash function is chosen randomly.  The hash function is ran-\n",
      "             domized by /dev/random content, or by file content if it is spec-\n",
      "             ified by --random-source.  Even if multiple sort fields are spec-\n",
      "             ified, the same random hash function is used for all of them.\n",
      "\n",
      "     -r, --reverse\n",
      "             Sort in reverse order.\n",
      "\n",
      "     -V, --version-sort\n",
      "             Sort version numbers.  The input lines are treated as file names\n",
      "             in form PREFIX VERSION SUFFIX, where SUFFIX matches the regular\n",
      "             expression \"(.([A-Za-z~][A-Za-z0-9~]*)?)*\".  The files are com-\n",
      "             pared by their prefixes and versions (leading zeros are ignored\n",
      "             in version numbers, see example below).  If an input string does\n",
      "             not match the pattern, then it is compared using the byte compare\n",
      "             function.  All string comparisons are performed in C locale, the\n",
      "             locale environment setting is ignored.\n",
      "\n",
      "             Example:\n",
      "\n",
      "             $ ls sort* | sort -V\n",
      "\n",
      "             sort-1.022.tgz\n",
      "\n",
      "             sort-1.23.tgz\n",
      "\n",
      "             sort-1.23.1.tgz\n",
      "\n",
      "             sort-1.024.tgz\n",
      "\n",
      "             sort-1.024.003.\n",
      "\n",
      "             sort-1.024.003.tgz\n",
      "\n",
      "             sort-1.024.07.tgz\n",
      "\n",
      "             sort-1.024.009.tgz\n",
      "\n",
      "     The treatment of field separators can be altered using these options:\n",
      "\n",
      "     -b, --ignore-leading-blanks\n",
      "             Ignore leading blank space when determining the start and end of\n",
      "             a restricted sort key (see -k).  If -b is specified before the\n",
      "             first -k option, it applies globally to all key specifications.\n",
      "             Otherwise, -b can be attached independently to each field argu-\n",
      "             ment of the key specifications.  -b.\n",
      "\n",
      "     -k field1[,field2], --key=field1[,field2]\n",
      "             Define a restricted sort key that has the starting position\n",
      "             field1, and optional ending position field2 of a key field.  The\n",
      "             -k option may be specified multiple times, in which case subse-\n",
      "             quent keys are compared when earlier keys compare equal.  The -k\n",
      "             option replaces the obsolete options +pos1 and -pos2, but the old\n",
      "             notation is also supported.\n",
      "\n",
      "     -t char, --field-separator=char\n",
      "             Use char as a field separator character.  The initial char is not\n",
      "             considered to be part of a field when determining key offsets.\n",
      "             Each occurrence of char is significant (for example, ``charchar''\n",
      "             delimits an empty field).  If -t is not specified, the default\n",
      "             field separator is a sequence of blank space characters, and con-\n",
      "             secutive blank spaces do not delimit an empty field, however, the\n",
      "             initial blank space is considered part of a field when determin-\n"
     ]
    },
    {
     "name": "stdout",
     "output_type": "stream",
     "text": [
      "             ing key offsets.  To use NUL as field separator, use -t '\\0'.\n",
      "\n",
      "     -z, --zero-terminated\n",
      "             Use NUL as record separator.  By default, records in the files\n",
      "             are supposed to be separated by the newline characters.  With\n",
      "             this option, NUL ('\\0') is used as a record separator character.\n",
      "\n",
      "     Other options:\n",
      "\n",
      "     --batch-size=num\n",
      "             Specify maximum number of files that can be opened by sort at\n",
      "             once.  This option affects behavior when having many input files\n",
      "             or using temporary files.  The default value is 16.\n",
      "\n",
      "     --compress-program=PROGRAM\n",
      "             Use PROGRAM to compress temporary files.  PROGRAM must compress\n",
      "             standard input to standard output, when called without arguments.\n",
      "             When called with argument -d it must decompress standard input to\n",
      "             standard output.  If PROGRAM fails, sort must exit with error.\n",
      "             An example of PROGRAM that can be used here is bzip2.\n",
      "\n",
      "     --random-source=filename\n",
      "             In random sort, the file content is used as the source of the\n",
      "             'seed' data for the hash function choice.  Two invocations of\n",
      "             random sort with the same seed data will use the same hash func-\n",
      "             tion and will produce the same result if the input is also iden-\n",
      "             tical.  By default, file /dev/random is used.\n",
      "\n",
      "     --debug\n",
      "             Print some extra information about the sorting process to the\n",
      "             standard output.\n",
      "\n",
      "     --files0-from=filename\n",
      "             Take the input file list from the file filename.  The file names\n",
      "             must be separated by NUL (like the output produced by the command\n",
      "             \"find ... -print0\").\n",
      "\n",
      "     --radixsort\n",
      "             Try to use radix sort, if the sort specifications allow.  The\n",
      "             radix sort can only be used for trivial locales (C and POSIX),\n",
      "             and it cannot be used for numeric or month sort.  Radix sort is\n",
      "             very fast and stable.\n",
      "\n",
      "     --mergesort\n",
      "             Use mergesort.  This is a universal algorithm that can always be\n",
      "             used, but it is not always the fastest.\n",
      "\n",
      "     --qsort\n",
      "             Try to use quick sort, if the sort specifications allow.  This\n",
      "             sort algorithm cannot be used with -u and -s.\n",
      "\n",
      "     --heapsort\n",
      "             Try to use heap sort, if the sort specifications allow.  This\n",
      "             sort algorithm cannot be used with -u and -s.\n",
      "\n",
      "     --mmap  Try to use file memory mapping system call.  It may increase\n",
      "             speed in some cases.\n",
      "\n",
      "     The following operands are available:\n",
      "\n",
      "     file    The pathname of a file to be sorted, merged, or checked.  If no\n",
      "             file operands are specified, or if a file operand is -, the stan-\n",
      "             dard input is used.\n",
      "\n",
      "     A field is defined as a maximal sequence of characters other than the\n",
      "     field separator and record separator (newline by default).  Initial blank\n",
      "     spaces are included in the field unless -b has been specified; the first\n",
      "     blank space of a sequence of blank spaces acts as the field separator and\n",
      "     is included in the field (unless -t is specified).  For example, all\n",
      "     blank spaces at the beginning of a line are considered to be part of the\n",
      "     first field.\n",
      "\n",
      "     Fields are specified by the -k field1[,field2] command-line option.  If\n",
      "     field2 is missing, the end of the key defaults to the end of the line.\n",
      "\n",
      "     The arguments field1 and field2 have the form m.n (m,n > 0) and can be\n",
      "     followed by one or more of the modifiers b, d, f, i, n, g, M and r, which\n",
      "     correspond to the options discussed above.  When b is specified it\n",
      "     applies only to field1 or field2 where it is specified while the rest of\n",
      "     the modifiers apply to the whole key field regardless if they are speci-\n",
      "     fied only with field1 or field2 or both.  A field1 position specified by\n",
      "     m.n is interpreted as the nth character from the beginning of the mth\n",
      "     field.  A missing .n in field1 means `.1', indicating the first character\n",
      "     of the mth field; if the -b option is in effect, n is counted from the\n",
      "     first non-blank character in the mth field; m.1b refers to the first non-\n",
      "     blank character in the mth field.  1.n refers to the nth character from\n",
      "     the beginning of the line; if n is greater than the length of the line,\n",
      "     the field is taken to be empty.\n",
      "\n",
      "     nth positions are always counted from the field beginning, even if the\n",
      "     field is shorter than the number of specified positions.  Thus, the key\n",
      "     can really start from a position in a subsequent field.\n",
      "\n",
      "     A field2 position specified by m.n is interpreted as the nth character\n",
      "     (including separators) from the beginning of the mth field.  A missing .n\n",
      "     indicates the last character of the mth field; m = 0 designates the end\n",
      "     of a line.  Thus the option -k v.x,w.y is synonymous with the obsolete\n",
      "     option +v-1.x-1 -w-1.y; when y is omitted, -k v.x,w is synonymous with\n",
      "     +v-1.x-1 -w.0.  The obsolete +pos1 -pos2 option is still supported,\n",
      "     except for -w.0b, which has no -k equivalent.\n",
      "\n",
      "ENVIRONMENT\n",
      "     LC_COLLATE  Locale settings to be used to determine the collation for\n",
      "                 sorting records.\n",
      "\n",
      "     LC_CTYPE    Locale settings to be used to case conversion and classifica-\n",
      "                 tion of characters, that is, which characters are considered\n",
      "                 whitespaces, etc.\n",
      "\n",
      "     LC_MESSAGES\n",
      "                 Locale settings that determine the language of output mes-\n",
      "                 sages that sort prints out.\n",
      "\n",
      "     LC_NUMERIC  Locale settings that determine the number format used in\n",
      "                 numeric sort.\n",
      "\n",
      "     LC_TIME     Locale settings that determine the month format used in month\n",
      "                 sort.\n",
      "\n",
      "     LC_ALL      Locale settings that override all of the above locale set-\n",
      "                 tings.  This environment variable can be used to set all\n",
      "                 these settings to the same value at once.\n",
      "\n",
      "     LANG        Used as a last resort to determine different kinds of locale-\n",
      "                 specific behavior if neither the respective environment vari-\n",
      "                 able, nor LC_ALL are set.\n",
      "\n",
      "     TMPDIR      Path to the directory in which temporary files will be\n",
      "                 stored.  Note that TMPDIR may be overridden by the -T option.\n",
      "\n",
      "     GNUSORT_NUMERIC_COMPATIBILITY\n",
      "                 If defined -t will not override the locale numeric symbols,\n",
      "                 that is, thousand separators and decimal separators.  By\n",
      "                 default, if we specify -t with the same symbol as the thou-\n",
      "                 sand separator or decimal point, the symbol will be treated\n",
      "                 as the field separator.  Older behavior was less definite;\n",
      "                 the symbol was treated as both field separator and numeric\n",
      "                 separator, simultaneously.  This environment variable enables\n",
      "                 the old behavior.\n",
      "\n",
      "FILES\n",
      "     /var/tmp/.bsdsort.PID.*           Temporary files.\n",
      "     /dev/random                       Default seed file for the random sort.\n",
      "\n",
      "EXIT STATUS\n",
      "     The sort utility shall exit with one of the following values:\n",
      "\n",
      "     0     Successfully sorted the input files or if used with -c or -C, the\n",
      "           input file already met the sorting criteria.\n",
      "     1     On disorder (or non-uniqueness) with the -c or -C options.\n",
      "     2     An error occurred.\n",
      "\n",
      "SEE ALSO\n",
      "     comm(1), join(1), uniq(1)\n",
      "\n",
      "STANDARDS\n",
      "     The sort utility is compliant with the IEEE Std 1003.1-2008 (``POSIX.1'')\n",
      "     specification.\n",
      "\n",
      "     The flags [-ghRMSsTVz] are extensions to the POSIX specification.\n",
      "\n",
      "     All long options are extensions to the specification, some of them are\n",
      "     provided for compatibility with GNU versions and some of them are own\n",
      "     extensions.\n",
      "\n",
      "     The old key notations +pos1 and -pos2 come from older versions of sort\n",
      "     and are still supported but their use is highly discouraged.\n",
      "\n",
      "HISTORY\n",
      "     A sort command first appeared in Version 3 AT&T UNIX.\n",
      "\n",
      "AUTHORS\n",
      "     Gabor Kovesdan <gabor@FreeBSD.org>,\n",
      "\n",
      "     Oleg Moskalenko <mom040267@gmail.com>\n",
      "\n",
      "NOTES\n",
      "     This implementation of sort has no limits on input line length (other\n"
     ]
    },
    {
     "name": "stdout",
     "output_type": "stream",
     "text": [
      "     than imposed by available memory) or any restrictions on bytes allowed\n",
      "     within lines.\n",
      "\n",
      "     The performance depends highly on locale settings, efficient choice of\n",
      "     sort keys and key complexity.  The fastest sort is with locale C, on\n",
      "     whole lines, with option -s.  In general, locale C is the fastest, then\n",
      "     single-byte locales follow and multi-byte locales as the slowest but the\n",
      "     correct collation order is always respected.  As for the key specifica-\n",
      "     tion, the simpler to process the lines the faster the search will be.\n",
      "\n",
      "     When sorting by arithmetic value, using -n results in much better perfor-\n",
      "     mance than -g so its use is encouraged whenever possible.\n",
      "\n",
      "BSD                             March 19, 2015                             BSD\n"
     ]
    }
   ],
   "source": [
    "man sort"
   ]
  },
  {
   "cell_type": "markdown",
   "metadata": {},
   "source": [
    "## uniq - finding unique values\n",
    "\n",
    "The `uniq` command extracts unique lines from the input. It is usually used in combination with `sort` to count unique values in the input."
   ]
  },
  {
   "cell_type": "markdown",
   "metadata": {},
   "source": [
    "To get the list of chromosomes in the Pfalciparum bed file type:"
   ]
  },
  {
   "cell_type": "code",
   "execution_count": null,
   "metadata": {
    "collapsed": true
   },
   "outputs": [],
   "source": [
    "awk '{ print $1 }' Pfalciparum.bed | sort | uniq"
   ]
  },
  {
   "cell_type": "markdown",
   "metadata": {},
   "source": [
    "How many chromosomes are there? You will learn more about the `awk` command later in this course.\n",
    "\n",
    "Warning: `uniq` is really stupid; it can only spot that two lines are the same if they are right next to one another.  You therefore almost always want to `sort` your input data before using `uniq`.\n",
    "\n",
    "Do you understand how this command is working?  Why not try building it up piece by piece to see what it does?\n",
    "\n",
    "```\n",
    "awk '{ print $1 }' Pfalciparum.bed | less\n",
    "awk '{ print $1 }' Pfalciparum.bed | sort | less\n",
    "awk '{ print $1 }' Pfalciparum.bed | sort | uniq | less\n",
    "```"
   ]
  },
  {
   "cell_type": "code",
   "execution_count": null,
   "metadata": {
    "collapsed": true
   },
   "outputs": [],
   "source": []
  },
  {
   "cell_type": "markdown",
   "metadata": {},
   "source": [
    "## Exercises\n",
    "\n",
    "Open up a new terminal window, navigate to the `files` directory in the `Unix` directory and complete the following exercise:\n",
    "\n",
    "1. Use the `head` command to extract the first 500 lines of the file `Styphi.gff` and store the output in a new file called `Styphi.500.gff`.\n",
    "2. Use the `wc` command to count the number of lines in the `Pfalciparum.bed` file.\n",
    "3. Use the `sort` command to sort the file `Pfalciparum.bed` on chromosome and then gene position.\n",
    "4. Use the `uniq` command to count the number of features per chromosome in the `Pfalciparum.bed` file. Hint: use the man command to look at the options for the uniq command. Or peruse the `wc` or `grep` manuals. There’s more than one way to do it!"
   ]
  },
  {
   "cell_type": "code",
   "execution_count": null,
   "metadata": {},
   "outputs": [],
   "source": []
  },
  {
   "cell_type": "markdown",
   "metadata": {},
   "source": [
    "Now go to the next part of the tutorial, [searching inside files with grep](grep.ipynb).  \n",
    "You can also [return to the index](index.ipynb) or revisit the [previous section](basic.ipynb)."
   ]
  }
 ],
 "metadata": {
  "kernelspec": {
   "display_name": "Bash",
   "language": "bash",
   "name": "bash"
  },
  "language_info": {
   "codemirror_mode": "shell",
   "file_extension": ".sh",
   "mimetype": "text/x-sh",
   "name": "bash"
  }
 },
 "nbformat": 4,
 "nbformat_minor": 1
}
